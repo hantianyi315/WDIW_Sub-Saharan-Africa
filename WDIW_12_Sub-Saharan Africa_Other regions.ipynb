{
 "cells": [
  {
   "cell_type": "markdown",
   "metadata": {},
   "source": [
    "# Clean Data"
   ]
  },
  {
   "cell_type": "code",
   "execution_count": 69,
   "metadata": {},
   "outputs": [],
   "source": [
    "import pandas as pd             # data science essentials\n",
    "import matplotlib.pyplot as plt # data visualization\n",
    "import seaborn as sns           # more data visualization\n",
    "import numpy as np\n",
    "\n",
    "# reading in dataset\n",
    "file ='WDIW Dataset.xlsx'\n",
    "wdiw = pd.read_excel(io = file)\n",
    "# wdiw.tail(n = 5)"
   ]
  },
  {
   "cell_type": "code",
   "execution_count": 70,
   "metadata": {
    "scrolled": true
   },
   "outputs": [],
   "source": [
    "wdiw_2 = wdiw.drop(\"Cool Name\", axis = 1)"
   ]
  },
  {
   "cell_type": "code",
   "execution_count": 71,
   "metadata": {},
   "outputs": [
    {
     "data": {
      "text/html": [
       "<div>\n",
       "<style scoped>\n",
       "    .dataframe tbody tr th:only-of-type {\n",
       "        vertical-align: middle;\n",
       "    }\n",
       "\n",
       "    .dataframe tbody tr th {\n",
       "        vertical-align: top;\n",
       "    }\n",
       "\n",
       "    .dataframe thead th {\n",
       "        text-align: right;\n",
       "    }\n",
       "</style>\n",
       "<table border=\"1\" class=\"dataframe\">\n",
       "  <thead>\n",
       "    <tr style=\"text-align: right;\">\n",
       "      <th></th>\n",
       "      <th>Country Code</th>\n",
       "      <th>Country Name</th>\n",
       "      <th>Hult Region</th>\n",
       "      <th>Access to electricity (% of population)</th>\n",
       "      <th>Access to electricity, rural (% of rural population)</th>\n",
       "      <th>Access to electricity, urban (% of urban population)</th>\n",
       "      <th>Adolescent fertility rate (births per 1,000 women ages 15-19)</th>\n",
       "      <th>Age dependency ratio (% of working-age population)</th>\n",
       "      <th>Age dependency ratio, old (% of working-age population)</th>\n",
       "      <th>Age dependency ratio, young (% of working-age population)</th>\n",
       "      <th>...</th>\n",
       "      <th>Poverty headcount ratio at national poverty lines (% of population)</th>\n",
       "      <th>Prevalence of HIV, total (% of population ages 15-49)</th>\n",
       "      <th>Prevalence of undernourishment (% of population)</th>\n",
       "      <th>Prevalence of underweight, weight for age (% of children under 5)</th>\n",
       "      <th>Rural population (% of total population)</th>\n",
       "      <th>Services, value added (% of GDP)</th>\n",
       "      <th>Surface area (sq. km)</th>\n",
       "      <th>Tax revenue (% of GDP)</th>\n",
       "      <th>Urban population (% of total population)</th>\n",
       "      <th>Urban population growth (annual %)</th>\n",
       "    </tr>\n",
       "  </thead>\n",
       "  <tbody>\n",
       "    <tr>\n",
       "      <td>213</td>\n",
       "      <td>WLD</td>\n",
       "      <td>World</td>\n",
       "      <td>World</td>\n",
       "      <td>88.8486</td>\n",
       "      <td>78.6474</td>\n",
       "      <td>97.3577</td>\n",
       "      <td>42.4557</td>\n",
       "      <td>54.2168</td>\n",
       "      <td>13.216</td>\n",
       "      <td>39.6441</td>\n",
       "      <td>...</td>\n",
       "      <td>NaN</td>\n",
       "      <td>0.8</td>\n",
       "      <td>10.8</td>\n",
       "      <td>13.5</td>\n",
       "      <td>45.1778</td>\n",
       "      <td>65.0357</td>\n",
       "      <td>1.32037e+08</td>\n",
       "      <td>15.2043</td>\n",
       "      <td>54.8222</td>\n",
       "      <td>1.98514</td>\n",
       "    </tr>\n",
       "  </tbody>\n",
       "</table>\n",
       "<p>1 rows × 66 columns</p>\n",
       "</div>"
      ],
      "text/plain": [
       "    Country Code Country Name Hult Region  \\\n",
       "213          WLD        World       World   \n",
       "\n",
       "    Access to electricity (% of population)  \\\n",
       "213                                 88.8486   \n",
       "\n",
       "    Access to electricity, rural (% of rural population)  \\\n",
       "213                                            78.6474     \n",
       "\n",
       "    Access to electricity, urban (% of urban population)  \\\n",
       "213                                            97.3577     \n",
       "\n",
       "    Adolescent fertility rate (births per 1,000 women ages 15-19)  \\\n",
       "213                                            42.4557              \n",
       "\n",
       "    Age dependency ratio (% of working-age population)  \\\n",
       "213                                            54.2168   \n",
       "\n",
       "    Age dependency ratio, old (% of working-age population)  \\\n",
       "213                                             13.216        \n",
       "\n",
       "    Age dependency ratio, young (% of working-age population)  ...  \\\n",
       "213                                            39.6441         ...   \n",
       "\n",
       "    Poverty headcount ratio at national poverty lines (% of population)  \\\n",
       "213                                                NaN                    \n",
       "\n",
       "    Prevalence of HIV, total (% of population ages 15-49)  \\\n",
       "213                                                0.8      \n",
       "\n",
       "    Prevalence of undernourishment (% of population)  \\\n",
       "213                                             10.8   \n",
       "\n",
       "    Prevalence of underweight, weight for age (% of children under 5)  \\\n",
       "213                                               13.5                  \n",
       "\n",
       "    Rural population (% of total population) Services, value added (% of GDP)  \\\n",
       "213                                  45.1778                          65.0357   \n",
       "\n",
       "    Surface area (sq. km) Tax revenue (% of GDP)  \\\n",
       "213           1.32037e+08                15.2043   \n",
       "\n",
       "    Urban population (% of total population)  \\\n",
       "213                                  54.8222   \n",
       "\n",
       "    Urban population growth (annual %)  \n",
       "213                            1.98514  \n",
       "\n",
       "[1 rows x 66 columns]"
      ]
     },
     "execution_count": 71,
     "metadata": {},
     "output_type": "execute_result"
    }
   ],
   "source": [
    "#Extract the world average data\n",
    "wdiw_avg = wdiw_2.iloc[ 213, : ]\n",
    "wdiw_avg = pd.DataFrame(wdiw_avg).T\n",
    "# wdiw_avg = wdiw_avg.T\n",
    "wdiw_avg"
   ]
  },
  {
   "cell_type": "code",
   "execution_count": 72,
   "metadata": {},
   "outputs": [],
   "source": [
    "\n",
    "# wdiw_12.info(verbose = True)"
   ]
  },
  {
   "cell_type": "code",
   "execution_count": 73,
   "metadata": {},
   "outputs": [
    {
     "data": {
      "text/plain": [
       "(23, 66)"
      ]
     },
     "execution_count": 73,
     "metadata": {},
     "output_type": "execute_result"
    }
   ],
   "source": [
    "wdiw_12.head(n = 5)\n",
    "wdiw_12.shape"
   ]
  },
  {
   "cell_type": "code",
   "execution_count": 74,
   "metadata": {
    "scrolled": false
   },
   "outputs": [],
   "source": [
    "# wdiw_12.info()"
   ]
  },
  {
   "cell_type": "code",
   "execution_count": 75,
   "metadata": {
    "scrolled": true
   },
   "outputs": [],
   "source": [
    "# l_dont_want = [1,13,15,16,17,18,19,20,21,22,29,31,32,33,34,35,38,39,54,55,56,59]\n",
    "# df[df.iloc[:, :].isin(l_dont_want) == False]\n"
   ]
  },
  {
   "cell_type": "code",
   "execution_count": 77,
   "metadata": {
    "scrolled": false
   },
   "outputs": [
    {
     "data": {
      "text/html": [
       "<div>\n",
       "<style scoped>\n",
       "    .dataframe tbody tr th:only-of-type {\n",
       "        vertical-align: middle;\n",
       "    }\n",
       "\n",
       "    .dataframe tbody tr th {\n",
       "        vertical-align: top;\n",
       "    }\n",
       "\n",
       "    .dataframe thead th {\n",
       "        text-align: right;\n",
       "    }\n",
       "</style>\n",
       "<table border=\"1\" class=\"dataframe\">\n",
       "  <thead>\n",
       "    <tr style=\"text-align: right;\">\n",
       "      <th></th>\n",
       "      <th>Country Code</th>\n",
       "      <th>Country Name</th>\n",
       "      <th>Hult Region</th>\n",
       "      <th>Access to electricity (% of population)</th>\n",
       "      <th>Access to electricity, rural (% of rural population)</th>\n",
       "      <th>Access to electricity, urban (% of urban population)</th>\n",
       "      <th>Adolescent fertility rate (births per 1,000 women ages 15-19)</th>\n",
       "      <th>Age dependency ratio (% of working-age population)</th>\n",
       "      <th>Age dependency ratio, old (% of working-age population)</th>\n",
       "      <th>Age dependency ratio, young (% of working-age population)</th>\n",
       "      <th>...</th>\n",
       "      <th>Population, male</th>\n",
       "      <th>Population, total</th>\n",
       "      <th>Prevalence of HIV, total (% of population ages 15-49)</th>\n",
       "      <th>Prevalence of undernourishment (% of population)</th>\n",
       "      <th>Rural population (% of total population)</th>\n",
       "      <th>Services, value added (% of GDP)</th>\n",
       "      <th>Surface area (sq. km)</th>\n",
       "      <th>Tax revenue (% of GDP)</th>\n",
       "      <th>Urban population (% of total population)</th>\n",
       "      <th>Urban population growth (annual %)</th>\n",
       "    </tr>\n",
       "  </thead>\n",
       "  <tbody>\n",
       "    <tr>\n",
       "      <td>0</td>\n",
       "      <td>AFG</td>\n",
       "      <td>Afghanistan</td>\n",
       "      <td>Middle East &amp; Russia</td>\n",
       "      <td>97.7</td>\n",
       "      <td>97.091973</td>\n",
       "      <td>99.5</td>\n",
       "      <td>68.957</td>\n",
       "      <td>86.000753</td>\n",
       "      <td>4.750925</td>\n",
       "      <td>81.249828</td>\n",
       "      <td>...</td>\n",
       "      <td>18652134.0</td>\n",
       "      <td>36296400.0</td>\n",
       "      <td>0.1</td>\n",
       "      <td>29.8</td>\n",
       "      <td>74.750</td>\n",
       "      <td>52.655431</td>\n",
       "      <td>652860.0</td>\n",
       "      <td>9.250468</td>\n",
       "      <td>25.250</td>\n",
       "      <td>3.463407</td>\n",
       "    </tr>\n",
       "    <tr>\n",
       "      <td>1</td>\n",
       "      <td>ALB</td>\n",
       "      <td>Albania</td>\n",
       "      <td>Eastern Europe</td>\n",
       "      <td>100.0</td>\n",
       "      <td>100.000000</td>\n",
       "      <td>100.0</td>\n",
       "      <td>19.642</td>\n",
       "      <td>45.682097</td>\n",
       "      <td>19.418064</td>\n",
       "      <td>26.264034</td>\n",
       "      <td>...</td>\n",
       "      <td>1464130.0</td>\n",
       "      <td>2873457.0</td>\n",
       "      <td>NaN</td>\n",
       "      <td>6.2</td>\n",
       "      <td>40.617</td>\n",
       "      <td>47.965907</td>\n",
       "      <td>28750.0</td>\n",
       "      <td>18.879748</td>\n",
       "      <td>59.383</td>\n",
       "      <td>1.541285</td>\n",
       "    </tr>\n",
       "    <tr>\n",
       "      <td>2</td>\n",
       "      <td>DZA</td>\n",
       "      <td>Algeria</td>\n",
       "      <td>Northern Sub-Saharan Africa</td>\n",
       "      <td>100.0</td>\n",
       "      <td>100.000000</td>\n",
       "      <td>100.0</td>\n",
       "      <td>10.071</td>\n",
       "      <td>55.804001</td>\n",
       "      <td>9.624334</td>\n",
       "      <td>46.179668</td>\n",
       "      <td>...</td>\n",
       "      <td>20906768.0</td>\n",
       "      <td>41389198.0</td>\n",
       "      <td>0.1</td>\n",
       "      <td>3.9</td>\n",
       "      <td>27.948</td>\n",
       "      <td>45.615016</td>\n",
       "      <td>2381740.0</td>\n",
       "      <td>NaN</td>\n",
       "      <td>72.052</td>\n",
       "      <td>2.871374</td>\n",
       "    </tr>\n",
       "    <tr>\n",
       "      <td>3</td>\n",
       "      <td>ASM</td>\n",
       "      <td>American Samoa</td>\n",
       "      <td>Australia &amp; Oceania</td>\n",
       "      <td>NaN</td>\n",
       "      <td>NaN</td>\n",
       "      <td>NaN</td>\n",
       "      <td>NaN</td>\n",
       "      <td>NaN</td>\n",
       "      <td>NaN</td>\n",
       "      <td>NaN</td>\n",
       "      <td>...</td>\n",
       "      <td>NaN</td>\n",
       "      <td>55620.0</td>\n",
       "      <td>NaN</td>\n",
       "      <td>NaN</td>\n",
       "      <td>12.830</td>\n",
       "      <td>NaN</td>\n",
       "      <td>200.0</td>\n",
       "      <td>NaN</td>\n",
       "      <td>87.170</td>\n",
       "      <td>-0.249256</td>\n",
       "    </tr>\n",
       "    <tr>\n",
       "      <td>4</td>\n",
       "      <td>AND</td>\n",
       "      <td>Andorra</td>\n",
       "      <td>Eastern Europe</td>\n",
       "      <td>100.0</td>\n",
       "      <td>100.000000</td>\n",
       "      <td>100.0</td>\n",
       "      <td>NaN</td>\n",
       "      <td>NaN</td>\n",
       "      <td>NaN</td>\n",
       "      <td>NaN</td>\n",
       "      <td>...</td>\n",
       "      <td>NaN</td>\n",
       "      <td>77001.0</td>\n",
       "      <td>NaN</td>\n",
       "      <td>NaN</td>\n",
       "      <td>11.850</td>\n",
       "      <td>79.285586</td>\n",
       "      <td>470.0</td>\n",
       "      <td>NaN</td>\n",
       "      <td>88.150</td>\n",
       "      <td>-0.495265</td>\n",
       "    </tr>\n",
       "  </tbody>\n",
       "</table>\n",
       "<p>5 rows × 45 columns</p>\n",
       "</div>"
      ],
      "text/plain": [
       "  Country Code    Country Name                  Hult Region  \\\n",
       "0          AFG     Afghanistan         Middle East & Russia   \n",
       "1          ALB         Albania               Eastern Europe   \n",
       "2          DZA         Algeria  Northern Sub-Saharan Africa   \n",
       "3          ASM  American Samoa          Australia & Oceania   \n",
       "4          AND         Andorra               Eastern Europe   \n",
       "\n",
       "   Access to electricity (% of population)  \\\n",
       "0                                     97.7   \n",
       "1                                    100.0   \n",
       "2                                    100.0   \n",
       "3                                      NaN   \n",
       "4                                    100.0   \n",
       "\n",
       "   Access to electricity, rural (% of rural population)  \\\n",
       "0                                          97.091973      \n",
       "1                                         100.000000      \n",
       "2                                         100.000000      \n",
       "3                                                NaN      \n",
       "4                                         100.000000      \n",
       "\n",
       "   Access to electricity, urban (% of urban population)  \\\n",
       "0                                               99.5      \n",
       "1                                              100.0      \n",
       "2                                              100.0      \n",
       "3                                                NaN      \n",
       "4                                              100.0      \n",
       "\n",
       "   Adolescent fertility rate (births per 1,000 women ages 15-19)  \\\n",
       "0                                             68.957               \n",
       "1                                             19.642               \n",
       "2                                             10.071               \n",
       "3                                                NaN               \n",
       "4                                                NaN               \n",
       "\n",
       "   Age dependency ratio (% of working-age population)  \\\n",
       "0                                          86.000753    \n",
       "1                                          45.682097    \n",
       "2                                          55.804001    \n",
       "3                                                NaN    \n",
       "4                                                NaN    \n",
       "\n",
       "   Age dependency ratio, old (% of working-age population)  \\\n",
       "0                                           4.750925         \n",
       "1                                          19.418064         \n",
       "2                                           9.624334         \n",
       "3                                                NaN         \n",
       "4                                                NaN         \n",
       "\n",
       "   Age dependency ratio, young (% of working-age population)  ...  \\\n",
       "0                                          81.249828          ...   \n",
       "1                                          26.264034          ...   \n",
       "2                                          46.179668          ...   \n",
       "3                                                NaN          ...   \n",
       "4                                                NaN          ...   \n",
       "\n",
       "   Population, male  Population, total  \\\n",
       "0        18652134.0         36296400.0   \n",
       "1         1464130.0          2873457.0   \n",
       "2        20906768.0         41389198.0   \n",
       "3               NaN            55620.0   \n",
       "4               NaN            77001.0   \n",
       "\n",
       "   Prevalence of HIV, total (% of population ages 15-49)  \\\n",
       "0                                                0.1       \n",
       "1                                                NaN       \n",
       "2                                                0.1       \n",
       "3                                                NaN       \n",
       "4                                                NaN       \n",
       "\n",
       "   Prevalence of undernourishment (% of population)  \\\n",
       "0                                              29.8   \n",
       "1                                               6.2   \n",
       "2                                               3.9   \n",
       "3                                               NaN   \n",
       "4                                               NaN   \n",
       "\n",
       "   Rural population (% of total population)  Services, value added (% of GDP)  \\\n",
       "0                                    74.750                         52.655431   \n",
       "1                                    40.617                         47.965907   \n",
       "2                                    27.948                         45.615016   \n",
       "3                                    12.830                               NaN   \n",
       "4                                    11.850                         79.285586   \n",
       "\n",
       "   Surface area (sq. km)  Tax revenue (% of GDP)  \\\n",
       "0               652860.0                9.250468   \n",
       "1                28750.0               18.879748   \n",
       "2              2381740.0                     NaN   \n",
       "3                  200.0                     NaN   \n",
       "4                  470.0                     NaN   \n",
       "\n",
       "   Urban population (% of total population)  \\\n",
       "0                                    25.250   \n",
       "1                                    59.383   \n",
       "2                                    72.052   \n",
       "3                                    87.170   \n",
       "4                                    88.150   \n",
       "\n",
       "   Urban population growth (annual %)  \n",
       "0                            3.463407  \n",
       "1                            1.541285  \n",
       "2                            2.871374  \n",
       "3                           -0.249256  \n",
       "4                           -0.495265  \n",
       "\n",
       "[5 rows x 45 columns]"
      ]
     },
     "execution_count": 77,
     "metadata": {},
     "output_type": "execute_result"
    }
   ],
   "source": [
    "\"\"\"Taking out the coulumns from World that we do not want. Depending on  \\\n",
    "our region / Sub-Saharan African (have only less than 2 non-null in the columns)\"\"\"\n",
    "\n",
    "world = wdiw_2.drop([wdiw_12.columns[13], wdiw_12.columns[15], wdiw_12.columns[16], \\\n",
    "                     wdiw_12.columns[17], wdiw_12.columns[18], wdiw_12.columns[19], \\\n",
    "                     wdiw_12.columns[20], wdiw_12.columns[21], wdiw_12.columns[22], \\\n",
    "                     wdiw_12.columns[29], wdiw_12.columns[31], wdiw_12.columns[32], \\\n",
    "                     wdiw_12.columns[33], wdiw_12.columns[34], wdiw_12.columns[35], \\\n",
    "                     wdiw_12.columns[38], wdiw_12.columns[39], wdiw_12.columns[54], \\\n",
    "                     wdiw_12.columns[55], wdiw_12.columns[56], wdiw_12.columns[59] ], axis = 1)\n",
    "# ssa.iloc[:, 12:48]\n",
    "# world.info()\n",
    "world.head()"
   ]
  },
  {
   "cell_type": "code",
   "execution_count": null,
   "metadata": {},
   "outputs": [],
   "source": []
  },
  {
   "cell_type": "markdown",
   "metadata": {},
   "source": [
    "#  Data Process with correlation"
   ]
  },
  {
   "cell_type": "code",
   "execution_count": 78,
   "metadata": {},
   "outputs": [
    {
     "data": {
      "text/plain": [
       "\"There is a space at the end in 'Carribean Islands & Parts of Latin America '  \\n!!!!!\""
      ]
     },
     "execution_count": 78,
     "metadata": {},
     "output_type": "execute_result"
    }
   ],
   "source": [
    "carribean = world.iloc[9, 2]\n",
    "world.iloc[9, 2]\n",
    "\n",
    "\"\"\"There is a space at the end in 'Carribean Islands & Parts of Latin America '  \n",
    "!!!!!\"\"\""
   ]
  },
  {
   "cell_type": "code",
   "execution_count": 79,
   "metadata": {},
   "outputs": [],
   "source": [
    "#Define the short name of each region\n",
    "\n",
    "\"\"\"\n",
    "\n",
    "WE           'Western Europe'\n",
    "EE           'Eastern Europe'\n",
    "\n",
    "CA           'Central Asia'\n",
    "\n",
    "ESA          'East/Southeast Asia'\n",
    "MER          'Middle East & Russia'\n",
    "\n",
    "AP           'Arabian Peninsula'\n",
    "\n",
    "NALA         'North America & Part of Latin America'\n",
    "SA           'South America'\n",
    "CILA         'Carribean Islands & Parts of Latin America' \n",
    "\n",
    "NSSA         'Northern Sub-Saharan Africa'\n",
    "ssa          'Sub-Saharan Africa'\n",
    "ESA          'East/South Africa'\n",
    "\n",
    "AO           'Australia & Oceania'\n",
    "\n",
    "\"\"\"\n",
    "#  = world[world['Hult Region'] == '']\n",
    "\n",
    "region = ['WE', 'EE', 'CA', 'ESA', 'MER', 'AP', 'NALA', 'SA', 'CILA', 'NSSA', 'ssa', 'ESA', 'AO']\n",
    "reg = {'WE': 'Western Europe'      , 'EE': 'Eastern Europe'       , 'CA': 'Central Asia',\\\n",
    "       'ESA': 'East/Southeast Asia', 'MER': 'Middle East & Russia', 'AP': 'Arabian Peninsula',\\\n",
    "       'NALA': 'North America & Part of Latin America', 'SA': 'South America',\\\n",
    "       'CILA': 'Carribean Islands & Parts of Latin America',\\\n",
    "       'NSSA': 'Northern Sub-Saharan Africa', 'ssa': 'Sub-Saharan Africa', 'ESA': 'East/South Africa',\\\n",
    "       'AO': 'Australia & Oceania'}\n",
    "# print(len(region))\n",
    "# for s, f in reg :\n",
    "#     s = world[world['Hult Region'] == 'f']\n",
    "\n",
    "WE   = world[world['Hult Region'] == 'Western Europe']\n",
    "EE   = world[world['Hult Region'] == 'Eastern Europe']\n",
    "\n",
    "CA   = world[world['Hult Region'] == 'Central Asia']\n",
    "\n",
    "ESA  = world[world['Hult Region'] == 'East/Southeast Asia']\n",
    "MER  = world[world['Hult Region'] == 'Middle East & Russia']\n",
    "\n",
    "AP   = world[world['Hult Region'] == 'Arabian Peninsula']\n",
    "\n",
    "NALA = world[world['Hult Region'] == 'North America & Part of Latin America']\n",
    "SA   = world[world['Hult Region'] == 'South America']\n",
    "CILA = world[world['Hult Region'] == 'Carribean Islands & Parts of Latin America ']\n",
    "\n",
    "NSSA = world[world['Hult Region'] == 'Northern Sub-Saharan Africa']\n",
    "ssa  = world[world['Hult Region'] == 'Sub-Saharan Africa']\n",
    "ESA  = world[world['Hult Region'] == 'East/South Africa']\n",
    "\n",
    "AO   = world[world['Hult Region'] == 'Australia & Oceania']\n"
   ]
  },
  {
   "cell_type": "code",
   "execution_count": 68,
   "metadata": {},
   "outputs": [
    {
     "name": "stdout",
     "output_type": "stream",
     "text": [
      "(22, 45) (22, 45) (13, 45) (21, 45) (14, 45) (15, 45) (11, 45) (13, 45) (19, 45) (10, 45) (23, 45) (21, 45) (19, 45)\n"
     ]
    }
   ],
   "source": [
    "print(  WE.shape,\n",
    "        EE.shape,\n",
    "        CA.shape,\n",
    "        ESA.shape,\n",
    "        MER.shape,\n",
    "        AP.shape,\n",
    "        NALA.shape,\n",
    "        SA.shape,\n",
    "        CILA.shape,\n",
    "        NSSA.shape,\n",
    "        ssa.shape,\n",
    "        ESA.shape,\n",
    "        AO.shape)"
   ]
  },
  {
   "cell_type": "code",
   "execution_count": 80,
   "metadata": {
    "code_folding": [
     2
    ]
   },
   "outputs": [],
   "source": [
    "# \"\"\"Taking out the coulumns from Sub-Saharan Africa that we do not want (have only less than 2 non-null in the columns)\"\"\"\n",
    "# ssa = world[world['Hult Region'] == 'Sub-Saharan Africa']\n",
    "# # ssa = wdiw_12.drop([wdiw_12.columns[13], wdiw_12.columns[15], wdiw_12.columns[16], \\\n",
    "# #                     wdiw_12.columns[17], wdiw_12.columns[18], wdiw_12.columns[19], \\\n",
    "# #                     wdiw_12.columns[20], wdiw_12.columns[21], wdiw_12.columns[22], \\\n",
    "# #                     wdiw_12.columns[29], wdiw_12.columns[31], wdiw_12.columns[32], \\\n",
    "# #                     wdiw_12.columns[33], wdiw_12.columns[34], wdiw_12.columns[35], \\\n",
    "# #                     wdiw_12.columns[38], wdiw_12.columns[39], wdiw_12.columns[54], \\\n",
    "# #                     wdiw_12.columns[55], wdiw_12.columns[56], wdiw_12.columns[59] ], axis = 1)\n",
    "# # ssa.iloc[:, 12:48]\n",
    "# # ssa.info()\n",
    "# ssa.shape"
   ]
  },
  {
   "cell_type": "code",
   "execution_count": null,
   "metadata": {},
   "outputs": [],
   "source": []
  },
  {
   "cell_type": "code",
   "execution_count": null,
   "metadata": {},
   "outputs": [],
   "source": []
  },
  {
   "cell_type": "code",
   "execution_count": null,
   "metadata": {},
   "outputs": [],
   "source": []
  },
  {
   "cell_type": "code",
   "execution_count": null,
   "metadata": {
    "scrolled": true
   },
   "outputs": [],
   "source": []
  },
  {
   "cell_type": "code",
   "execution_count": 82,
   "metadata": {
    "scrolled": true
   },
   "outputs": [],
   "source": [
    "# wdiw_12.isnull()"
   ]
  },
  {
   "cell_type": "code",
   "execution_count": 85,
   "metadata": {
    "scrolled": true
   },
   "outputs": [
    {
     "name": "stdout",
     "output_type": "stream",
     "text": [
      "Number of blanks in None cleaned data of Sub-Saharan Africa is  512\n",
      "Number of blanks in cleaned data of world  1161\n",
      "Number of blanks in cleaned data of Sub-Saharan Africa  50\n"
     ]
    }
   ],
   "source": [
    "na_count_1 = wdiw_12.isnull().sum().sum()\n",
    "type(na_count_1)\n",
    "print('Number of blanks in None cleaned data of Sub-Saharan Africa is ', na_count_1)\n",
    "na_count_2 = world.isnull().sum().sum()\n",
    "type(na_count_2)\n",
    "print('Number of blanks in cleaned data of world ', na_count_2)\n",
    "na_count_3 = ssa.isnull().sum().sum()\n",
    "type(na_count_3)\n",
    "print('Number of blanks in cleaned data of Sub-Saharan Africa ', na_count_3)"
   ]
  },
  {
   "cell_type": "code",
   "execution_count": null,
   "metadata": {},
   "outputs": [],
   "source": []
  },
  {
   "cell_type": "code",
   "execution_count": null,
   "metadata": {},
   "outputs": [],
   "source": []
  },
  {
   "cell_type": "code",
   "execution_count": null,
   "metadata": {},
   "outputs": [],
   "source": []
  },
  {
   "cell_type": "code",
   "execution_count": null,
   "metadata": {},
   "outputs": [],
   "source": []
  }
 ],
 "metadata": {
  "kernelspec": {
   "display_name": "Python 3",
   "language": "python",
   "name": "python3"
  },
  "language_info": {
   "codemirror_mode": {
    "name": "ipython",
    "version": 3
   },
   "file_extension": ".py",
   "mimetype": "text/x-python",
   "name": "python",
   "nbconvert_exporter": "python",
   "pygments_lexer": "ipython3",
   "version": "3.7.3"
  },
  "toc": {
   "base_numbering": 1,
   "nav_menu": {},
   "number_sections": true,
   "sideBar": true,
   "skip_h1_title": false,
   "title_cell": "Table of Contents",
   "title_sidebar": "Contents",
   "toc_cell": false,
   "toc_position": {
    "height": "calc(100% - 180px)",
    "left": "10px",
    "top": "150px",
    "width": "165px"
   },
   "toc_section_display": true,
   "toc_window_display": true
  },
  "varInspector": {
   "cols": {
    "lenName": 16,
    "lenType": 16,
    "lenVar": 40
   },
   "kernels_config": {
    "python": {
     "delete_cmd_postfix": "",
     "delete_cmd_prefix": "del ",
     "library": "var_list.py",
     "varRefreshCmd": "print(var_dic_list())"
    },
    "r": {
     "delete_cmd_postfix": ") ",
     "delete_cmd_prefix": "rm(",
     "library": "var_list.r",
     "varRefreshCmd": "cat(var_dic_list()) "
    }
   },
   "types_to_exclude": [
    "module",
    "function",
    "builtin_function_or_method",
    "instance",
    "_Feature"
   ],
   "window_display": false
  }
 },
 "nbformat": 4,
 "nbformat_minor": 2
}
